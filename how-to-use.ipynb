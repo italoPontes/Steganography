{
 "cells": [
  {
   "cell_type": "code",
   "execution_count": 1,
   "metadata": {},
   "outputs": [],
   "source": [
    "import cv2\n",
    "\n",
    "header_size = 32 # bits\n",
    "pixel_size = 8\n",
    "\n",
    "embedded_file = \"data/white.png\"\n",
    "hidden_file = \"data/smile.png\"\n",
    "encoded_file = \"data/steganography.png\"\n",
    "decoded_file = \"data/retrieved.png\"\n",
    "\n",
    "embedded_image = cv2.imread(embedded_file)\n",
    "hidden_image = cv2.imread(hidden_file)"
   ]
  },
  {
   "cell_type": "code",
   "execution_count": 2,
   "metadata": {},
   "outputs": [
    {
     "data": {
      "text/plain": [
       "True"
      ]
     },
     "execution_count": 2,
     "metadata": {},
     "output_type": "execute_result"
    }
   ],
   "source": [
    "from src.steganography import Steganography\n",
    "\n",
    "model = Steganography()\n",
    "\n",
    "encoded_image = model.encode(embedded_image, hidden_image)\n",
    "\n",
    "cv2.imwrite(encoded_file, encoded_image)"
   ]
  },
  {
   "cell_type": "code",
   "execution_count": 3,
   "metadata": {},
   "outputs": [
    {
     "data": {
      "text/plain": [
       "True"
      ]
     },
     "execution_count": 3,
     "metadata": {},
     "output_type": "execute_result"
    }
   ],
   "source": [
    "encoded_image = cv2.imread(encoded_file)\n",
    "\n",
    "from src.steganography import Steganography\n",
    "\n",
    "model = Steganography()\n",
    "\n",
    "retrieved_image = model.decode(encoded_image)\n",
    "\n",
    "cv2.imwrite(decoded_file, retrieved_image)"
   ]
  },
  {
   "cell_type": "code",
   "execution_count": null,
   "metadata": {},
   "outputs": [],
   "source": []
  },
  {
   "cell_type": "code",
   "execution_count": null,
   "metadata": {},
   "outputs": [],
   "source": []
  }
 ],
 "metadata": {
  "interpreter": {
   "hash": "6e7af24dbdae90ca12b0aedaf47e133e00bb4844907c8863492112c45820c5d2"
  },
  "kernelspec": {
   "display_name": "Python 3.9.12 ('base')",
   "language": "python",
   "name": "python3"
  },
  "language_info": {
   "codemirror_mode": {
    "name": "ipython",
    "version": 3
   },
   "file_extension": ".py",
   "mimetype": "text/x-python",
   "name": "python",
   "nbconvert_exporter": "python",
   "pygments_lexer": "ipython3",
   "version": "3.9.12"
  },
  "orig_nbformat": 4
 },
 "nbformat": 4,
 "nbformat_minor": 2
}
