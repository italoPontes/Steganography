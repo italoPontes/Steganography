{
 "cells": [
  {
   "cell_type": "markdown",
   "metadata": {},
   "source": [
    "# Converting Binary to Numeric"
   ]
  },
  {
   "cell_type": "code",
   "execution_count": 4,
   "metadata": {},
   "outputs": [],
   "source": [
    "def from_binary_to_decimal(binary: str = '0') -> int:\n",
    "    \"\"\"\n",
    "    Converts binary number to decimal integer.\n",
    "\n",
    "    Args:\n",
    "        binary (str): Binary string.\n",
    "\n",
    "    Returns:\n",
    "        int: Decimal integer.\n",
    "\n",
    "    Examples:\n",
    "        >>> from_binary_to_decimal('00000001')\n",
    "        1\n",
    "        >>> from_binary_to_decimal('00001010')\n",
    "        10\n",
    "        >>> from_binary_to_decimal('01100100')\n",
    "        100\n",
    "    \"\"\"\n",
    "    decimal = 0\n",
    "    for i, bit in enumerate(reversed(binary)):\n",
    "        if bit == '1':\n",
    "            decimal += 2 ** i\n",
    "    return decimal"
   ]
  },
  {
   "cell_type": "code",
   "execution_count": 11,
   "metadata": {},
   "outputs": [],
   "source": [
    "def from_binary_to_decimal_2(binary: str = '0') -> int:\n",
    "    \"\"\"\n",
    "    Converts binary number to decimal integer.\n",
    "\n",
    "    Args:\n",
    "        binary (str): Binary string.\n",
    "\n",
    "    Returns:\n",
    "        int: Decimal integer.\n",
    "\n",
    "    Examples:\n",
    "        >>> from_binary_to_decimal('00000001')\n",
    "        1\n",
    "        >>> from_binary_to_decimal('00001010')\n",
    "        10\n",
    "        >>> from_binary_to_decimal('01100100')\n",
    "        100\n",
    "    \"\"\"\n",
    "    decimal = 0\n",
    "    map_values = [1, 2, 4, 8, 16, 32, 64, 128, 256]\n",
    "    for i, bit in enumerate(reversed(binary)):\n",
    "        if bit == '1':\n",
    "            decimal += map_values[i]\n",
    "    return decimal"
   ]
  },
  {
   "cell_type": "code",
   "execution_count": 20,
   "metadata": {},
   "outputs": [],
   "source": [
    "def from_binary_to_decimal_3(binary: str = '0') -> int:\n",
    "    \"\"\"\n",
    "    Converts binary number to decimal integer.\n",
    "\n",
    "    Args:\n",
    "        binary (str): Binary string.\n",
    "\n",
    "    Returns:\n",
    "        int: Decimal integer.\n",
    "\n",
    "    Examples:\n",
    "        >>> from_binary_to_decimal('00000001')\n",
    "        1\n",
    "        >>> from_binary_to_decimal('00001010')\n",
    "        10\n",
    "        >>> from_binary_to_decimal('01100100')\n",
    "        100\n",
    "    \"\"\"\n",
    "    return int(binary, 2)"
   ]
  },
  {
   "cell_type": "code",
   "execution_count": 14,
   "metadata": {},
   "outputs": [
    {
     "name": "stdout",
     "output_type": "stream",
     "text": [
      "812 ns ± 3.76 ns per loop (mean ± std. dev. of 7 runs, 1,000,000 loops each)\n"
     ]
    }
   ],
   "source": [
    "%%timeit\n",
    "var = from_binary_to_decimal('11111111')"
   ]
  },
  {
   "cell_type": "code",
   "execution_count": 15,
   "metadata": {},
   "outputs": [
    {
     "name": "stdout",
     "output_type": "stream",
     "text": [
      "776 ns ± 1.19 ns per loop (mean ± std. dev. of 7 runs, 1,000,000 loops each)\n"
     ]
    }
   ],
   "source": [
    "%%timeit\n",
    "var = from_binary_to_decimal_2('11111111')"
   ]
  },
  {
   "cell_type": "code",
   "execution_count": 23,
   "metadata": {},
   "outputs": [
    {
     "name": "stdout",
     "output_type": "stream",
     "text": [
      "182 ns ± 0.851 ns per loop (mean ± std. dev. of 7 runs, 10,000,000 loops each)\n"
     ]
    }
   ],
   "source": [
    "%%timeit\n",
    "var = from_binary_to_decimal_3('11111111')"
   ]
  },
  {
   "cell_type": "code",
   "execution_count": 33,
   "metadata": {},
   "outputs": [
    {
     "data": {
      "text/plain": [
       "8.758339166641235"
      ]
     },
     "execution_count": 33,
     "metadata": {},
     "output_type": "execute_result"
    }
   ],
   "source": [
    "import time\n",
    "start = time.time()\n",
    "for i in range(10000000):\n",
    "    var = from_binary_to_decimal('11111111')\n",
    "time.time() - start"
   ]
  },
  {
   "cell_type": "code",
   "execution_count": 34,
   "metadata": {},
   "outputs": [
    {
     "data": {
      "text/plain": [
       "8.498201131820679"
      ]
     },
     "execution_count": 34,
     "metadata": {},
     "output_type": "execute_result"
    }
   ],
   "source": [
    "import time\n",
    "start = time.time()\n",
    "for i in range(10000000):\n",
    "    var = from_binary_to_decimal_2('11111111')\n",
    "time.time() - start"
   ]
  },
  {
   "cell_type": "code",
   "execution_count": 35,
   "metadata": {},
   "outputs": [
    {
     "data": {
      "text/plain": [
       "2.4877400398254395"
      ]
     },
     "execution_count": 35,
     "metadata": {},
     "output_type": "execute_result"
    }
   ],
   "source": [
    "import time\n",
    "start = time.time()\n",
    "for i in range(10000000):\n",
    "    var = from_binary_to_decimal_3('11111111')\n",
    "time.time() - start"
   ]
  },
  {
   "cell_type": "code",
   "execution_count": 16,
   "metadata": {},
   "outputs": [
    {
     "name": "stdout",
     "output_type": "stream",
     "text": [
      "623 ns ± 4.88 ns per loop (mean ± std. dev. of 7 runs, 1,000,000 loops each)\n"
     ]
    }
   ],
   "source": [
    "%%timeit\n",
    "var = from_binary_to_decimal('00000000')"
   ]
  },
  {
   "cell_type": "code",
   "execution_count": 17,
   "metadata": {},
   "outputs": [
    {
     "name": "stdout",
     "output_type": "stream",
     "text": [
      "734 ns ± 33.6 ns per loop (mean ± std. dev. of 7 runs, 1,000,000 loops each)\n"
     ]
    }
   ],
   "source": [
    "%%timeit\n",
    "var = from_binary_to_decimal_2('00000000')"
   ]
  },
  {
   "cell_type": "code",
   "execution_count": 24,
   "metadata": {},
   "outputs": [
    {
     "name": "stdout",
     "output_type": "stream",
     "text": [
      "182 ns ± 1.64 ns per loop (mean ± std. dev. of 7 runs, 10,000,000 loops each)\n"
     ]
    }
   ],
   "source": [
    "%%timeit\n",
    "var = from_binary_to_decimal_3('00000000')"
   ]
  },
  {
   "cell_type": "markdown",
   "metadata": {},
   "source": [
    "# Change Last Bit"
   ]
  },
  {
   "cell_type": "code",
   "execution_count": 73,
   "metadata": {},
   "outputs": [],
   "source": [
    "def modify_last_bit(pixel_value: int = 0,\n",
    "                    new_last_bit: int = 0) -> int:\n",
    "    \"\"\"\n",
    "    Modifies the last bit of a pixel value.\n",
    "\n",
    "    Args:\n",
    "        pixel_value (int): The original pixel value (0 to 255).\n",
    "        new_last_bit (int): The new value for the last bit (0 or 1).\n",
    "\n",
    "    Returns:\n",
    "        int: The modified pixel value if the new last bit is 0 or 1,\n",
    "        otherwise returns the original pixel value.\n",
    "\n",
    "    Example:\n",
    "        >>> modify_last_bit(10, 1)\n",
    "        11\n",
    "\n",
    "    Explanation:\n",
    "        The binary representation of pixel_value is '00001010',\n",
    "        and the last bit will be replaced by the new_last_bit: '00001011',\n",
    "        which is equivalent to 11 in integer.\n",
    "    \"\"\"\n",
    "    new_last_bit = int(new_last_bit)\n",
    "    if new_last_bit not in {0, 1}:\n",
    "        return pixel_value\n",
    "    output_value = (pixel_value & -2) | (new_last_bit & 1)\n",
    "    return output_value"
   ]
  },
  {
   "cell_type": "code",
   "execution_count": 77,
   "metadata": {},
   "outputs": [],
   "source": [
    "def modify_last_bit_2(pixel_value: int = 0,\n",
    "                      new_last_bit: int = 0) -> int:\n",
    "    \"\"\"\n",
    "    Modifies the last bit of a pixel value.\n",
    "\n",
    "    Args:\n",
    "        pixel_value (int): The original pixel value (0 to 255).\n",
    "        new_last_bit (int): The new value for the last bit (0 or 1).\n",
    "\n",
    "    Returns:\n",
    "        int: The modified pixel value if the new last bit is 0 or 1,\n",
    "        otherwise returns the original pixel value.\n",
    "\n",
    "    Example:\n",
    "        >>> modify_last_bit(10, 1)\n",
    "        11\n",
    "\n",
    "    Explanation:\n",
    "        The binary representation of pixel_value is '00001010',\n",
    "        and the last bit will be replaced by the new_last_bit: '00001011',\n",
    "        which is equivalent to 11 in integer.\n",
    "    \"\"\"\n",
    "    new_last_bit = int(new_last_bit)\n",
    "    if new_last_bit not in {0, 1}:\n",
    "        return pixel_value\n",
    "    \n",
    "    pixel_impar = pixel_value % 2\n",
    "    bit_impar = new_last_bit % 2\n",
    "    if pixel_impar == bit_impar:\n",
    "        return pixel_value\n",
    "    if bit_impar:\n",
    "        pixel_value += 1\n",
    "    else:\n",
    "        pixel_value -= 1\n",
    "    return pixel_value"
   ]
  },
  {
   "cell_type": "code",
   "execution_count": 81,
   "metadata": {},
   "outputs": [],
   "source": [
    "def modify_last_bit_3(pixel_value: int = 0,\n",
    "                      new_last_bit: int = 0) -> int:\n",
    "    \"\"\"\n",
    "    Modifies the last bit of a pixel value.\n",
    "\n",
    "    Args:\n",
    "        pixel_value (int): The original pixel value (0 to 255).\n",
    "        new_last_bit (int): The new value for the last bit (0 or 1).\n",
    "\n",
    "    Returns:\n",
    "        int: The modified pixel value if the new last bit is 0 or 1,\n",
    "        otherwise returns the original pixel value.\n",
    "\n",
    "    Example:\n",
    "        >>> modify_last_bit(10, 1)\n",
    "        11\n",
    "\n",
    "    Explanation:\n",
    "        The binary representation of pixel_value is '00001010',\n",
    "        and the last bit will be replaced by the new_last_bit: '00001011',\n",
    "        which is equivalent to 11 in integer.\n",
    "    \"\"\"\n",
    "    new_last_bit = int(new_last_bit)\n",
    "    if new_last_bit not in {0, 1}:\n",
    "        return pixel_value\n",
    "    \n",
    "    pixel_impar = bin(pixel_value)[-1]\n",
    "    bit_impar = bin(new_last_bit)[-1]\n",
    "    \n",
    "    if pixel_impar == bit_impar:\n",
    "        return pixel_value\n",
    "    if bit_impar:\n",
    "        pixel_value += 1\n",
    "    else:\n",
    "        pixel_value -= 1\n",
    "    return pixel_value"
   ]
  },
  {
   "cell_type": "code",
   "execution_count": 75,
   "metadata": {},
   "outputs": [
    {
     "name": "stdout",
     "output_type": "stream",
     "text": [
      "774 ns ± 3.95 ns per loop (mean ± std. dev. of 7 runs, 1,000,000 loops each)\n"
     ]
    }
   ],
   "source": [
    "%%timeit\n",
    "var = modify_last_bit(128, 1)\n",
    "var = modify_last_bit(128, 0)\n",
    "var = modify_last_bit(127, 1)\n",
    "var = modify_last_bit(127, 0)"
   ]
  },
  {
   "cell_type": "code",
   "execution_count": 78,
   "metadata": {},
   "outputs": [
    {
     "name": "stdout",
     "output_type": "stream",
     "text": [
      "875 ns ± 3.75 ns per loop (mean ± std. dev. of 7 runs, 1,000,000 loops each)\n"
     ]
    }
   ],
   "source": [
    "%%timeit\n",
    "var = modify_last_bit_2(128, 1)\n",
    "var = modify_last_bit_2(128, 0)\n",
    "var = modify_last_bit_2(127, 1)\n",
    "var = modify_last_bit_2(127, 0)"
   ]
  },
  {
   "cell_type": "code",
   "execution_count": 83,
   "metadata": {},
   "outputs": [
    {
     "name": "stdout",
     "output_type": "stream",
     "text": [
      "1.54 µs ± 4.7 ns per loop (mean ± std. dev. of 7 runs, 1,000,000 loops each)\n"
     ]
    }
   ],
   "source": [
    "%%timeit\n",
    "var = modify_last_bit_3(128, 1)\n",
    "var = modify_last_bit_3(128, 0)\n",
    "var = modify_last_bit_3(127, 1)\n",
    "var = modify_last_bit_3(127, 0)"
   ]
  },
  {
   "cell_type": "code",
   "execution_count": 86,
   "metadata": {},
   "outputs": [
    {
     "data": {
      "text/plain": [
       "8.977305173873901"
      ]
     },
     "execution_count": 86,
     "metadata": {},
     "output_type": "execute_result"
    }
   ],
   "source": [
    "import time\n",
    "start = time.time()\n",
    "for i in range(10000000):\n",
    "    var = modify_last_bit(128, 1)\n",
    "    var = modify_last_bit(128, 0)\n",
    "    var = modify_last_bit(127, 1)\n",
    "    var = modify_last_bit(127, 0)\n",
    "time.time() - start"
   ]
  },
  {
   "cell_type": "code",
   "execution_count": 87,
   "metadata": {},
   "outputs": [
    {
     "data": {
      "text/plain": [
       "10.037117004394531"
      ]
     },
     "execution_count": 87,
     "metadata": {},
     "output_type": "execute_result"
    }
   ],
   "source": [
    "import time\n",
    "start = time.time()\n",
    "for i in range(10000000):\n",
    "    var = modify_last_bit_2(128, 1)\n",
    "    var = modify_last_bit_2(128, 0)\n",
    "    var = modify_last_bit_2(127, 1)\n",
    "    var = modify_last_bit_2(127, 0)\n",
    "time.time() - start"
   ]
  },
  {
   "cell_type": "code",
   "execution_count": 88,
   "metadata": {},
   "outputs": [
    {
     "data": {
      "text/plain": [
       "16.85541868209839"
      ]
     },
     "execution_count": 88,
     "metadata": {},
     "output_type": "execute_result"
    }
   ],
   "source": [
    "import time\n",
    "start = time.time()\n",
    "for i in range(10000000):\n",
    "    var = modify_last_bit_3(128, 1)\n",
    "    var = modify_last_bit_3(128, 0)\n",
    "    var = modify_last_bit_3(127, 1)\n",
    "    var = modify_last_bit_3(127, 0)\n",
    "time.time() - start"
   ]
  },
  {
   "cell_type": "code",
   "execution_count": null,
   "metadata": {},
   "outputs": [],
   "source": []
  }
 ],
 "metadata": {
  "interpreter": {
   "hash": "bd97f3d713271d6b23f84375c071b535801efd469ad9d91eede5ae918baa51f9"
  },
  "kernelspec": {
   "display_name": "Python 3.12.2 ('steganography')",
   "language": "python",
   "name": "python3"
  },
  "language_info": {
   "codemirror_mode": {
    "name": "ipython",
    "version": 3
   },
   "file_extension": ".py",
   "mimetype": "text/x-python",
   "name": "python",
   "nbconvert_exporter": "python",
   "pygments_lexer": "ipython3",
   "version": "3.12.2"
  },
  "orig_nbformat": 4
 },
 "nbformat": 4,
 "nbformat_minor": 2
}
