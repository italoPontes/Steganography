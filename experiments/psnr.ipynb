{
 "cells": [
  {
   "cell_type": "code",
   "execution_count": 25,
   "metadata": {},
   "outputs": [
    {
     "name": "stdout",
     "output_type": "stream",
     "text": [
      "-inf\n",
      "-inf\n",
      "-inf\n",
      "-inf\n",
      "-inf\n",
      "-inf\n",
      "-inf\n",
      "-inf\n"
     ]
    }
   ],
   "source": [
    "import cv2\n",
    "import psnr \n",
    "\n",
    "colors = [\"Red\", \"Green\", \"Blue\",\n",
    "            \"Cyan\", \"Magenta\", \"Yellow\",\n",
    "            \"White\"]\n",
    "colors = [\"White\"]\n",
    "\n",
    "for color in colors:\n",
    "    image_file_1 = f\"../data/Bits Variations/{color} (original).png\"\n",
    "    image_1 = cv2.imread(image_file_1)\n",
    "\n",
    "    for bit in range(1, 9):\n",
    "        image_file_2 = f\"../data/Bits Variations/{color} {bit}.png\"\n",
    "        image_2 = cv2.imread(image_file_2)\n",
    "    \n",
    "        print(psnr.compute_psnr(image_2, image_1))"
   ]
  },
  {
   "cell_type": "code",
   "execution_count": 23,
   "metadata": {},
   "outputs": [
    {
     "data": {
      "text/plain": [
       "11.2806695274398"
      ]
     },
     "execution_count": 23,
     "metadata": {},
     "output_type": "execute_result"
    }
   ],
   "source": [
    "image_file_1 = \"../data/steganography.png\"\n",
    "image_file_2 = \"../data/white.png\"\n",
    "\n",
    "image_1 = cv2.imread(image_file_1)\n",
    "image_2 = cv2.imread(image_file_2)\n",
    "\n",
    "image_2 = cv2.resize(image_2, dsize=(image_1.shape[1], image_1.shape[0]))\n",
    "\n",
    "psnr.compute_psnr(image_1, image_2)"
   ]
  },
  {
   "cell_type": "code",
   "execution_count": 24,
   "metadata": {},
   "outputs": [],
   "source": [
    "# PSNR example: 11.2806695274398"
   ]
  }
 ],
 "metadata": {
  "interpreter": {
   "hash": "6e7af24dbdae90ca12b0aedaf47e133e00bb4844907c8863492112c45820c5d2"
  },
  "kernelspec": {
   "display_name": "Python 3.9.12 ('base')",
   "language": "python",
   "name": "python3"
  },
  "language_info": {
   "codemirror_mode": {
    "name": "ipython",
    "version": 3
   },
   "file_extension": ".py",
   "mimetype": "text/x-python",
   "name": "python",
   "nbconvert_exporter": "python",
   "pygments_lexer": "ipython3",
   "version": "3.9.12"
  },
  "orig_nbformat": 4
 },
 "nbformat": 4,
 "nbformat_minor": 2
}
