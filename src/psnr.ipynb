{
 "cells": [
  {
   "cell_type": "code",
   "execution_count": 19,
   "metadata": {},
   "outputs": [],
   "source": [
    "import cv2\n",
    "\n",
    "img1_file = \"data/white.png\"\n",
    "img2_file = \"data/steganography.png\"\n",
    "\n",
    "img1 = cv2.imread(img1_file)\n",
    "img2 = cv2.imread(img2_file)  "
   ]
  },
  {
   "cell_type": "code",
   "execution_count": 20,
   "metadata": {},
   "outputs": [],
   "source": [
    "img1 = cv2.resize(img1, dsize=(img2.shape[1], img2.shape[0]))"
   ]
  },
  {
   "cell_type": "code",
   "execution_count": 30,
   "metadata": {},
   "outputs": [
    {
     "name": "stderr",
     "output_type": "stream",
     "text": [
      "/var/folders/fn/xxcb446104qgcbp2w_8dsr200000gn/T/ipykernel_40193/3371368047.py:46: RuntimeWarning: divide by zero encountered in log10\n",
      "  psnr = 10 * np.log10((pixel_range ** 2) / mse)\n"
     ]
    },
    {
     "data": {
      "text/plain": [
       "-inf"
      ]
     },
     "execution_count": 30,
     "metadata": {},
     "output_type": "execute_result"
    }
   ],
   "source": [
    "import numpy as np\n",
    "\n",
    "import numpy as np\n",
    "\n",
    "def compute_mean_squared_error(image_src: np.ndarray, image_ref: np.ndarray) -> float:\n",
    "    \"\"\"\n",
    "    Computes the mean squared error between two images.\n",
    "\n",
    "    Args:\n",
    "        image_src (numpy.ndarray): Source image.\n",
    "        image_ref (numpy.ndarray): Reference image.\n",
    "\n",
    "    Returns:\n",
    "        float: The mean squared error between the two images, or -inf if the images have different shapes.\n",
    "    \"\"\"\n",
    "    # Check if the images have the same shape\n",
    "    if image_src.shape != image_ref.shape:\n",
    "        return float('-inf')\n",
    "\n",
    "    # Compute the mean squared error\n",
    "    mse = np.mean((image_src - image_ref) ** 2)\n",
    "    return mse\n",
    "\n",
    "def compute_psnr(image_src: np.ndarray, image_ref: np.ndarray) -> float:\n",
    "    \"\"\"\n",
    "    Computes the Peak Signal-to-Noise Ratio (PSNR) between two images.\n",
    "\n",
    "    Args:\n",
    "        image_src (numpy.ndarray): Source image.\n",
    "        image_ref (numpy.ndarray): Reference image.\n",
    "\n",
    "    Returns:\n",
    "        float: The PSNR value between the two images, or -inf if the images have different shapes.\n",
    "    \"\"\"\n",
    "    # Check if the images have the same shape\n",
    "    if image_src.shape != image_ref.shape:\n",
    "        return float('-inf')\n",
    "\n",
    "    # Compute the mean squared error between the images\n",
    "    mse = compute_mean_squared_error(image_src, image_ref)\n",
    "\n",
    "    # Compute the range of pixel values in the source image\n",
    "    pixel_range = np.max(image_src) - np.min(image_src)\n",
    "\n",
    "    if pixel_range == 0:\n",
    "        return float('-inf')\n",
    "\n",
    "    # Compute the PSNR value\n",
    "    psnr = 10 * np.log10((pixel_range ** 2) / mse)\n",
    "\n",
    "    return psnr\n",
    "\n",
    "compute_psnr(img1, img2)"
   ]
  },
  {
   "cell_type": "code",
   "execution_count": null,
   "metadata": {},
   "outputs": [],
   "source": []
  }
 ],
 "metadata": {
  "interpreter": {
   "hash": "6e7af24dbdae90ca12b0aedaf47e133e00bb4844907c8863492112c45820c5d2"
  },
  "kernelspec": {
   "display_name": "Python 3.9.12 ('base')",
   "language": "python",
   "name": "python3"
  },
  "language_info": {
   "codemirror_mode": {
    "name": "ipython",
    "version": 3
   },
   "file_extension": ".py",
   "mimetype": "text/x-python",
   "name": "python",
   "nbconvert_exporter": "python",
   "pygments_lexer": "ipython3",
   "version": "3.9.12"
  },
  "orig_nbformat": 4
 },
 "nbformat": 4,
 "nbformat_minor": 2
}
